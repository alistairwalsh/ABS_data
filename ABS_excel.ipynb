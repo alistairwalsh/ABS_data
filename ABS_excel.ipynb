{
 "cells": [
  {
   "cell_type": "code",
   "execution_count": 1,
   "metadata": {},
   "outputs": [],
   "source": [
    "import pandas as pd\n",
    "\n",
    "filename = '61600ds0001_2015-16.xls'\n",
    "\n",
    "sheet1 = pd.read_excel(filename,sheet_name=1,header=None)\n",
    "sheet1.to_csv('abs_sheet_1.csv',index = False)\n",
    "\n",
    "coords = [(6,21),(27,20),(47,6),(53,4),(57,5),(62,5),(67,1)]\n",
    "path = 'abs_sheet_1.csv'\n",
    "\n",
    "chunks = [pd.read_csv(path, skiprows = x, header = None, nrows = y) for x,y in coords]\n",
    "\n",
    "cols0 = [c for c in chunks[0].iloc[0,:] if pd.notnull(c)]\n",
    "cols1 = pd.unique([c for c in chunks[0].iloc[1,:] if pd.notnull(c)])\n",
    "cols2 = pd.unique([c for c in chunks[0].iloc[2,:] if pd.notnull(c)])\n",
    "\n",
    "chunk_data = [chunk.drop(0).drop(columns = [0,1]) for chunk in chunks[1:-1]]\n",
    "chunk_data.append(chunks[-1].drop(columns = [0,1]))\n",
    "chunk_data.insert(0,chunks[0].drop([0,1,2,3]).drop(columns = [0,1]))\n",
    "\n",
    "cols_index = pd.MultiIndex.from_product([cols0,cols1,cols2])\n",
    "\n",
    "for c in chunk_data: c.columns = cols_index\n",
    "\n",
    "new_index_list = []\n",
    "for c in chunks[1:-1]:\n",
    "    data = c[0].tolist()\n",
    "    index_0, index_1 = [data.pop(0)],data\n",
    "    new_index = pd.MultiIndex.from_product([index_0, index_1])\n",
    "    new_index_list.append(new_index)\n",
    "\n",
    "for k,v in zip(new_index_list,chunk_data[1:-1]):\n",
    "    v.index = k\n",
    "\n",
    "data = chunks[0].drop([0,1,2])[0].tolist()\n",
    "index_0, index_1 = [data.pop(0)],data\n",
    "new_index = pd.MultiIndex.from_product([index_0, index_1])\n",
    "chunk_data[0].index = new_index\n",
    "\n",
    "chunk_data[-1].index = pd.MultiIndex.from_product([chunks[-1][0],chunks[-1][0]])"
   ]
  },
  {
   "cell_type": "code",
   "execution_count": 2,
   "metadata": {},
   "outputs": [],
   "source": [
    "full_df = chunk_data[0].append(chunk_data[1:])\n",
    "\n",
    "full_df.to_pickle('full_dataset.p')\n",
    "\n",
    "names = ['age_group', 'industry', \n",
    "         'institutional_sector', 'type_of_legal_organisation',\n",
    "         'employment_size', 'job_duration', 'total']\n",
    "\n",
    "for k,v in zip(names, chunk_data):\n",
    "    pd.to_pickle(v, k + '.p')"
   ]
  },
  {
   "cell_type": "code",
   "execution_count": null,
   "metadata": {},
   "outputs": [],
   "source": []
  }
 ],
 "metadata": {
  "kernelspec": {
   "display_name": "Python 3",
   "language": "python",
   "name": "python3"
  },
  "language_info": {
   "codemirror_mode": {
    "name": "ipython",
    "version": 3
   },
   "file_extension": ".py",
   "mimetype": "text/x-python",
   "name": "python",
   "nbconvert_exporter": "python",
   "pygments_lexer": "ipython3",
   "version": "3.7.3"
  }
 },
 "nbformat": 4,
 "nbformat_minor": 2
}
