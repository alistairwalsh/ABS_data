{
 "cells": [
  {
   "cell_type": "code",
   "execution_count": 1,
   "metadata": {},
   "outputs": [],
   "source": [
    "import pandas as pd\n",
    "from glob import glob"
   ]
  },
  {
   "cell_type": "code",
   "execution_count": 2,
   "metadata": {},
   "outputs": [],
   "source": [
    "pickles = glob('*.p')"
   ]
  },
  {
   "cell_type": "code",
   "execution_count": 3,
   "metadata": {},
   "outputs": [],
   "source": [
    "df, total, job_duration, industry, age_group, type_of_legal_organisation, \\\n",
    "institutional_sector, employment_size = [pd.read_pickle(p) for p in pickles]"
   ]
  },
  {
   "cell_type": "code",
   "execution_count": 4,
   "metadata": {},
   "outputs": [
    {
     "data": {
      "text/plain": [
       "MultiIndex(levels=[['MEDIAN EMPLOYMENT INCOME PER JOB ($)', 'NUMBER OF JOBS ('000)'], ['FEMALES', 'MALES', 'PERSONS'], ['2011-12', '2012-13', '2013-14', '2014-15', '2015-16']],\n",
       "           codes=[[1, 1, 1, 1, 1, 1, 1, 1, 1, 1, 1, 1, 1, 1, 1, 0, 0, 0, 0, 0, 0, 0, 0, 0, 0, 0, 0, 0, 0, 0], [1, 1, 1, 1, 1, 0, 0, 0, 0, 0, 2, 2, 2, 2, 2, 1, 1, 1, 1, 1, 0, 0, 0, 0, 0, 2, 2, 2, 2, 2], [0, 1, 2, 3, 4, 0, 1, 2, 3, 4, 0, 1, 2, 3, 4, 0, 1, 2, 3, 4, 0, 1, 2, 3, 4, 0, 1, 2, 3, 4]])"
      ]
     },
     "execution_count": 4,
     "metadata": {},
     "output_type": "execute_result"
    }
   ],
   "source": [
    "df.columns"
   ]
  },
  {
   "cell_type": "code",
   "execution_count": 11,
   "metadata": {},
   "outputs": [
    {
     "data": {
      "text/plain": [
       "14 years and under       1121\n",
       "15 to 17 years           2642\n",
       "18 to 20 years           5210\n",
       "21 to 24 years          10210\n",
       "25 to 29 years          18022\n",
       "30 to 34 years          24960\n",
       "35 to 39 years        28081.5\n",
       "40 to 44 years          30323\n",
       "45 to 49 years          32442\n",
       "50 to 54 years          34143\n",
       "55 to 59 years          34043\n",
       "60 to 64 years          30050\n",
       "65 to 69 years          19532\n",
       "70 to 74 years        10050.5\n",
       "75 to 79 years           6600\n",
       "80 to 84 years           6203\n",
       "85 years and over        6975\n",
       "Name: (MEDIAN EMPLOYMENT INCOME PER JOB ($), FEMALES, 2015-16), dtype: object"
      ]
     },
     "execution_count": 11,
     "metadata": {},
     "output_type": "execute_result"
    }
   ],
   "source": [
    "df.loc['Age group',('MEDIAN EMPLOYMENT INCOME PER JOB ($)','FEMALES','2015-16')]"
   ]
  },
  {
   "cell_type": "code",
   "execution_count": 12,
   "metadata": {},
   "outputs": [
    {
     "data": {
      "text/plain": [
       "14 years and under    1221.5\n",
       "15 to 17 years          2772\n",
       "18 to 20 years        6407.5\n",
       "21 to 24 years         12454\n",
       "25 to 29 years         21610\n",
       "30 to 34 years         36838\n",
       "35 to 39 years         46951\n",
       "40 to 44 years         51292\n",
       "45 to 49 years         52242\n",
       "50 to 54 years         52088\n",
       "55 to 59 years         49719\n",
       "60 to 64 years         41112\n",
       "65 to 69 years         25000\n",
       "70 to 74 years         13401\n",
       "75 to 79 years          8454\n",
       "80 to 84 years          6759\n",
       "85 years and over       6922\n",
       "Name: (MEDIAN EMPLOYMENT INCOME PER JOB ($), MALES, 2015-16), dtype: object"
      ]
     },
     "execution_count": 12,
     "metadata": {},
     "output_type": "execute_result"
    }
   ],
   "source": [
    "df.loc['Age group',('MEDIAN EMPLOYMENT INCOME PER JOB ($)','MALES','2015-16')]"
   ]
  },
  {
   "cell_type": "code",
   "execution_count": null,
   "metadata": {},
   "outputs": [],
   "source": []
  }
 ],
 "metadata": {
  "kernelspec": {
   "display_name": "Python 3",
   "language": "python",
   "name": "python3"
  },
  "language_info": {
   "codemirror_mode": {
    "name": "ipython",
    "version": 3
   },
   "file_extension": ".py",
   "mimetype": "text/x-python",
   "name": "python",
   "nbconvert_exporter": "python",
   "pygments_lexer": "ipython3",
   "version": "3.7.3"
  }
 },
 "nbformat": 4,
 "nbformat_minor": 2
}
